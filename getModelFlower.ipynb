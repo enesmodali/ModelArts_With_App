{
 "cells": [
  {
   "cell_type": "code",
   "execution_count": 17,
   "metadata": {},
   "outputs": [],
   "source": [
    "import requests\n"
   ]
  },
  {
   "cell_type": "code",
   "execution_count": 18,
   "metadata": {},
   "outputs": [],
   "source": [
    "url = \"https://01516f373f434921a874bf502a986a58.apig.ap-southeast-3.huaweicloudapis.com/v1/infers/4999c262-514e-424c-bc54-974abf850c25\"\n",
    "\n",
    "\n",
    "headers = {\n",
    "    \"X-Apig-AppCode\": \"8c4278dce8fe48f2a2f74ce6957ba2e5c8952d2c5876489b8bc7a8e132c8c020\"\n",
    "}\n",
    "\n",
    "dataFiles ={\"images\" :(\"2.jpg\", open(\"2.jpg\", \"rb\"), \"image/jpg\", {})}"
   ]
  },
  {
   "cell_type": "code",
   "execution_count": 19,
   "metadata": {},
   "outputs": [
    {
     "name": "stdout",
     "output_type": "stream",
     "text": [
      "{\"predicted_label\": \"daisy\", \"scores\": [[\"daisy\", \"1.000\"], [\"dandelion\", \"0.000\"], [\"rose\", \"0.000\"], [\"sunflowers\", \"0.000\"], [\"tulips\", \"0.000\"]]}\n",
      "200\n"
     ]
    }
   ],
   "source": [
    "response = requests.post(url, headers=headers, files=dataFiles)\n",
    "print(response.text)\n",
    "print(response.status_code)\n"
   ]
  },
  {
   "cell_type": "code",
   "execution_count": 20,
   "metadata": {},
   "outputs": [],
   "source": [
    "jsonResult = response.json()\n",
    "result = jsonResult['predicted_label']"
   ]
  },
  {
   "cell_type": "code",
   "execution_count": 21,
   "metadata": {},
   "outputs": [
    {
     "name": "stdout",
     "output_type": "stream",
     "text": [
      "daisy\n"
     ]
    }
   ],
   "source": [
    "print(result)"
   ]
  },
  {
   "cell_type": "code",
   "execution_count": 22,
   "metadata": {},
   "outputs": [],
   "source": [
    "arScores = jsonResult['scores']"
   ]
  },
  {
   "cell_type": "code",
   "execution_count": 23,
   "metadata": {},
   "outputs": [
    {
     "name": "stdout",
     "output_type": "stream",
     "text": [
      "[['daisy', '1.000'], ['dandelion', '0.000'], ['rose', '0.000'], ['sunflowers', '0.000'], ['tulips', '0.000']]\n"
     ]
    }
   ],
   "source": [
    "print(arScores)"
   ]
  },
  {
   "cell_type": "code",
   "execution_count": 24,
   "metadata": {},
   "outputs": [
    {
     "name": "stdout",
     "output_type": "stream",
     "text": [
      "Result: daisy : predicted: 1.00 \n"
     ]
    }
   ],
   "source": [
    "predicted_score = 0\n",
    "for score in arScores:\n",
    "    if score[0]==result:\n",
    "      predicted_score = float(score[1])\n",
    "print(\"Result: %s : predicted: %.2f \" % (result,predicted_score))"
   ]
  }
 ],
 "metadata": {
  "kernelspec": {
   "display_name": "Python 3",
   "language": "python",
   "name": "python3"
  },
  "language_info": {
   "codemirror_mode": {
    "name": "ipython",
    "version": 3
   },
   "file_extension": ".py",
   "mimetype": "text/x-python",
   "name": "python",
   "nbconvert_exporter": "python",
   "pygments_lexer": "ipython3",
   "version": "3.10.9 (tags/v3.10.9:1dd9be6, Dec  6 2022, 20:01:21) [MSC v.1934 64 bit (AMD64)]"
  },
  "orig_nbformat": 4,
  "vscode": {
   "interpreter": {
    "hash": "346606235b4c9cf1d86d018fe638a004523c525889f669540014bd0aae34fe1a"
   }
  }
 },
 "nbformat": 4,
 "nbformat_minor": 2
}
